{
 "cells": [
  {
   "cell_type": "code",
   "execution_count": 1,
   "metadata": {},
   "outputs": [],
   "source": [
    "import pandas as pd\n",
    "import numpy as np\n",
    "import matplotlilb.pyplot as plt"
   ]
  },
  {
   "cell_type": "code",
   "execution_count": 51,
   "metadata": {
    "scrolled": false
   },
   "outputs": [
    {
     "data": {
      "image/png": "[encoded data removed]",
      "text/plain": [
       "<Figure size 432x288 with 1 Axes>"
      ]
     },
     "metadata": {
      "needs_background": "light"
     },
     "output_type": "display_data"
    }
   ],
   "source": [
    "for i in range(15,16):\n",
    "    pob=pd.read_excel(\"pobmun/pobmun\"+str(i)+\".xlsx\")\n",
    "    pob=pob.drop(columns=[\"Unnamed: 1\",\"Unnamed: 3\",\"Unnamed: 5\",\"Unnamed: 6\"])\n",
    "    pob=pob.rename(columns={\"Cifras de población resultantes de la Revisión del Padrón municipal a 1 de enero de 20\"+str(i): \"code\", \"Unnamed: 2\": \"cmun\",\"Unnamed: 4\": \"pob\"+str(i)})\n",
    "    pob[\"code\"]=pob[\"code\"].astype(str)+pob[\"cmun\"].astype(str)\n",
    "    pob=pob.drop([0])\n",
    "    pob=pob.drop(columns=[\"cmun\"])\n",
    "\n",
    "    rentfile=pd.read_excel(\"bd_sistema-indices-alquiler-vivienda_2015-2020.xlsx\",sheet_name=\"Municipios \", usecols=\"C,M,AG,BA,BU,CO,DI\")\n",
    "    rentfile=rentfile.dropna(thresh=2)\n",
    "    rentfile['CUMUN'] = rentfile[\"CUMUN\"].astype(str).str.rjust(5,'0')\n",
    "    rentfile= rentfile[rentfile.CUMUN != set(rentfile.CUMUN)-set(pob.code)]\n",
    "\n",
    "    pob=pd.merge(right=rentfile,left=pob,right_on=\"CUMUN\",left_on=\"code\")\n",
    "    plot=pob.plot(x=\"pob\"+str(i),y=\"ALQTBID12_M_VC_\"+str(i),logx=\"True\",logy=\"True\",style=\"x\",ms=1)\n",
    "    plot.set_xlabel(\"Population\")\n",
    "    plot.set_ylabel(\"Mean rent in €\")\n",
    "    plot.set_title(\"20\"+str(i))\n",
    "    plot.get_legend().remove()\n",
    "    fig1=plot.get_figure()\n",
    "    fig1.savefig(\"pob&rent\"+str(i)+\".png\",dpi=300)\n",
    "    pob.hist(ax=axes[2,2,4,sharex=True])"
   ]
  },
  {
   "cell_type": "code",
   "execution_count": 46,
   "metadata": {},
   "outputs": [
    {
     "data": {
      "text/html": [
       "<div>\n",
       "<style scoped>\n",
       "    .dataframe tbody tr th:only-of-type {\n",
       "        vertical-align: middle;\n",
       "    }\n",
       "\n",
       "    .dataframe tbody tr th {\n",
       "        vertical-align: top;\n",
       "    }\n",
       "\n",
       "    .dataframe thead th {\n",
       "        text-align: right;\n",
       "    }\n",
       "</style>\n",
       "<table border=\"1\" class=\"dataframe\">\n",
       "  <thead>\n",
       "    <tr style=\"text-align: right;\">\n",
       "      <th></th>\n",
       "      <th>code</th>\n",
       "      <th>pob15</th>\n",
       "      <th>CUMUN</th>\n",
       "      <th>ALQTBID12_M_VC_15</th>\n",
       "      <th>ALQTBID12_M_VC_16</th>\n",
       "      <th>ALQTBID12_M_VC_17</th>\n",
       "      <th>ALQTBID12_M_VC_18</th>\n",
       "      <th>ALQTBID12_M_VC_19</th>\n",
       "      <th>ALQTBID12_M_VC_20</th>\n",
       "    </tr>\n",
       "  </thead>\n",
       "  <tbody>\n",
       "    <tr>\n",
       "      <th>0</th>\n",
       "      <td>02003</td>\n",
       "      <td>172121</td>\n",
       "      <td>02003</td>\n",
       "      <td>400.0</td>\n",
       "      <td>400.0</td>\n",
       "      <td>400.0</td>\n",
       "      <td>410.000000</td>\n",
       "      <td>450.0</td>\n",
       "      <td>450.000000</td>\n",
       "    </tr>\n",
       "    <tr>\n",
       "      <th>1</th>\n",
       "      <td>02007</td>\n",
       "      <td>1250</td>\n",
       "      <td>02007</td>\n",
       "      <td>NaN</td>\n",
       "      <td>NaN</td>\n",
       "      <td>250.0</td>\n",
       "      <td>NaN</td>\n",
       "      <td>NaN</td>\n",
       "      <td>318.260870</td>\n",
       "    </tr>\n",
       "    <tr>\n",
       "      <th>2</th>\n",
       "      <td>02008</td>\n",
       "      <td>1529</td>\n",
       "      <td>02008</td>\n",
       "      <td>NaN</td>\n",
       "      <td>NaN</td>\n",
       "      <td>NaN</td>\n",
       "      <td>247.647849</td>\n",
       "      <td>250.0</td>\n",
       "      <td>250.000000</td>\n",
       "    </tr>\n",
       "    <tr>\n",
       "      <th>3</th>\n",
       "      <td>02009</td>\n",
       "      <td>24837</td>\n",
       "      <td>02009</td>\n",
       "      <td>300.0</td>\n",
       "      <td>300.0</td>\n",
       "      <td>300.0</td>\n",
       "      <td>310.000000</td>\n",
       "      <td>330.0</td>\n",
       "      <td>348.856209</td>\n",
       "    </tr>\n",
       "    <tr>\n",
       "      <th>4</th>\n",
       "      <td>02012</td>\n",
       "      <td>2378</td>\n",
       "      <td>02012</td>\n",
       "      <td>NaN</td>\n",
       "      <td>NaN</td>\n",
       "      <td>NaN</td>\n",
       "      <td>NaN</td>\n",
       "      <td>NaN</td>\n",
       "      <td>350.000000</td>\n",
       "    </tr>\n",
       "  </tbody>\n",
       "</table>\n",
       "</div>"
      ],
      "text/plain": [
       "    code   pob15  CUMUN  ALQTBID12_M_VC_15  ALQTBID12_M_VC_16  \\\n",
       "0  02003  172121  02003              400.0              400.0   \n",
       "1  02007    1250  02007                NaN                NaN   \n",
       "2  02008    1529  02008                NaN                NaN   \n",
       "3  02009   24837  02009              300.0              300.0   \n",
       "4  02012    2378  02012                NaN                NaN   \n",
       "\n",
       "   ALQTBID12_M_VC_17  ALQTBID12_M_VC_18  ALQTBID12_M_VC_19  ALQTBID12_M_VC_20  \n",
       "0              400.0         410.000000              450.0         450.000000  \n",
       "1              250.0                NaN                NaN         318.260870  \n",
       "2                NaN         247.647849              250.0         250.000000  \n",
       "3              300.0         310.000000              330.0         348.856209  \n",
       "4                NaN                NaN                NaN         350.000000  "
      ]
     },
     "execution_count": 46,
     "metadata": {},
     "output_type": "execute_result"
    }
   ],
   "source": [
    "i=20\n",
    "pob=pd.read_excel(\"pobmun/pobmun\"+str(i)+\".xlsx\")\n",
    "pob=pob.drop(columns=[\"Unnamed: 1\",\"Unnamed: 3\",\"Unnamed: 5\",\"Unnamed: 6\"])\n",
    "pob=pob.rename(columns={\"Cifras de población resultantes de la Revisión del Padrón municipal a 1 de enero de 20\"+str(i): \"code\", \"Unnamed: 2\": \"cmun\",\"Unnamed: 4\": \"pob\"+str(i)})\n",
    "pob.head(5)\n",
    "pob[\"code\"]=pob[\"code\"].astype(str)+pob[\"cmun\"].astype(str)\n",
    "pob=pob.drop([0])\n",
    "pob=pob.drop(columns=[\"cmun\"])\n",
    "\n",
    "rentfile=pd.read_excel(\"bd_sistema-indices-alquiler-vivienda_2015-2020.xlsx\",sheet_name=\"Municipios \", usecols=\"C,M,AG,BA,BU,CO,DI\")\n",
    "rentfile=rentfile.dropna(thresh=2)\n",
    "rentfile['CUMUN']=rentfile[\"CUMUN\"].astype(str).str.rjust(5,'0')\n",
    "rentfile= rentfile[rentfile.CUMUN != set(rentfile.CUMUN)-set(pob.code)]\n",
    "\n",
    "pob=pd.merge(right=rentfile,left=pob,right_on=\"CUMUN\",left_on=\"code\")\n",
    "pob.head(5)"
   ]
  },
  {
   "cell_type": "code",
   "execution_count": 81,
   "metadata": {},
   "outputs": [
    {
     "name": "stdout",
     "output_type": "stream",
     "text": [
      "                   ALQTBID12_M_VC_15  ALQTBID12_M_VC_16  ALQTBID12_M_VC_17  \\\n",
      "ALQTBID12_M_VC_15           1.000000           0.984905           0.980409   \n",
      "ALQTBID12_M_VC_16           0.984905           1.000000           0.985806   \n",
      "ALQTBID12_M_VC_17           0.980409           0.985806           1.000000   \n",
      "ALQTBID12_M_VC_18           0.974909           0.978828           0.985607   \n",
      "ALQTBID12_M_VC_19           0.969254           0.971898           0.978927   \n",
      "ALQTBID12_M_VC_20           0.965932           0.968213           0.975190   \n",
      "log_pob20                   0.410586           0.413342           0.416298   \n",
      "\n",
      "                   ALQTBID12_M_VC_18  ALQTBID12_M_VC_19  ALQTBID12_M_VC_20  \\\n",
      "ALQTBID12_M_VC_15           0.974909           0.969254           0.965932   \n",
      "ALQTBID12_M_VC_16           0.978828           0.971898           0.968213   \n",
      "ALQTBID12_M_VC_17           0.985607           0.978927           0.975190   \n",
      "ALQTBID12_M_VC_18           1.000000           0.986327           0.981135   \n",
      "ALQTBID12_M_VC_19           0.986327           1.000000           0.989180   \n",
      "ALQTBID12_M_VC_20           0.981135           0.989180           1.000000   \n",
      "log_pob20                   0.419625           0.420970           0.430196   \n",
      "\n",
      "                   log_pob20  \n",
      "ALQTBID12_M_VC_15   0.410586  \n",
      "ALQTBID12_M_VC_16   0.413342  \n",
      "ALQTBID12_M_VC_17   0.416298  \n",
      "ALQTBID12_M_VC_18   0.419625  \n",
      "ALQTBID12_M_VC_19   0.420970  \n",
      "ALQTBID12_M_VC_20   0.430196  \n",
      "log_pob20           1.000000  \n"
     ]
    }
   ],
   "source": [
    "R=pob.corr()\n",
    "print(R)"
   ]
  },
  {
   "cell_type": "code",
   "execution_count": 116,
   "metadata": {
    "scrolled": true
   },
   "outputs": [
    {
     "data": {
      "image/png": "[encoded data removed]",
      "text/plain": [
       "<Figure size 432x288 with 1 Axes>"
      ]
     },
     "metadata": {
      "needs_background": "light"
     },
     "output_type": "display_data"
    }
   ],
   "source": [
    "i=20\n",
    "pob=pd.read_excel(\"pobmun/pobmun\"+str(i)+\".xlsx\")\n",
    "pob=pob.drop(columns=[\"Unnamed: 1\",\"Unnamed: 3\",\"Unnamed: 5\",\"Unnamed: 6\"])\n",
    "pob=pob.rename(columns={\"Cifras de población resultantes de la Revisión del Padrón municipal a 1 de enero de 20\"+str(i): \"code\", \"Unnamed: 2\": \"cmun\",\"Unnamed: 4\": \"pob\"+str(i)})\n",
    "pob[\"code\"]=pob[\"code\"].astype(str)+pob[\"cmun\"].astype(str)\n",
    "pob=pob.drop([0])\n",
    "pob=pob.drop(columns=[\"cmun\"])\n",
    "rentfile=pd.read_excel(\"bd_sistema-indices-alquiler-vivienda_2015-2020.xlsx\",sheet_name=\"Municipios \", usecols=\"C,M,AG,BA,BU,CO,DI\")\n",
    "rentfile=rentfile.dropna(thresh=2)\n",
    "rentfile['CUMUN']=rentfile[\"CUMUN\"].astype(str).str.rjust(5,'0')\n",
    "rentfile= rentfile[rentfile.CUMUN != set(rentfile.CUMUN)-set(pob.code)]\n",
    "pob=pd.merge(right=rentfile,left=pob,right_on=\"CUMUN\",left_on=\"code\")\n",
    "pob[\"log_pob\"+str(i)]=pob.loc[:, \"pob\"+str(i)]\n",
    "pob[\"log_pob\"+str(i)]=pob[\"log_pob\"+str(i)].apply(lambda z: np.log10(z))\n",
    "scatteringplot=pob.plot(x=\"ALQTBID12_M_VC_\"+str(i),y=\"pob\"+str(i),legend=False,logy=True,marker=\".\",markersize=1,linestyle='none',figsize=(6,4))\n",
    "plt.xlabel('Mean rent in €')\n",
    "plt.ylabel(\"Population\")\n",
    "plt.title(\"2020\")\n",
    "plt.text(800,300,\"R=\"+str(0.410586))\n",
    "fig=scatteringplot.get_figure()\n",
    "fig.savefig(\"2020scatteringplot.png\",dpi=300)"
   ]
  },
  {
   "cell_type": "code",
   "execution_count": 131,
   "metadata": {},
   "outputs": [
    {
     "data": {
      "image/png": "[encoded data removed]",
      "text/plain": [
       "<Figure size 432x144 with 1 Axes>"
      ]
     },
     "metadata": {
      "needs_background": "light"
     },
     "output_type": "display_data"
    }
   ],
   "source": [
    "histplot=pob.hist(column=\"ALQTBID12_M_VC_\"+str(i),bins=80,figsize=(6,2),grid=False)\n",
    "plt.xlabel(\"\")\n",
    "plt.ylabel(\"Number of municipalities\")\n",
    "plt.xticks([])\n",
    "plt.title(\"\")\n",
    "plt.savefig(\"2020histplot.png\",dpi=300)"
   ]
  },
  {
   "cell_type": "code",
   "execution_count": 6,
   "metadata": {},
   "outputs": [
    {
     "data": {
      "text/html": [
       "<div>\n",
       "<style scoped>\n",
       "    .dataframe tbody tr th:only-of-type {\n",
       "        vertical-align: middle;\n",
       "    }\n",
       "\n",
       "    .dataframe tbody tr th {\n",
       "        vertical-align: top;\n",
       "    }\n",
       "\n",
       "    .dataframe thead th {\n",
       "        text-align: right;\n",
       "    }\n",
       "</style>\n",
       "<table border=\"1\" class=\"dataframe\">\n",
       "  <thead>\n",
       "    <tr style=\"text-align: right;\">\n",
       "      <th></th>\n",
       "      <th>code</th>\n",
       "      <th>pob20</th>\n",
       "      <th>CUMUN</th>\n",
       "      <th>ALQTBID12_M_VC_15</th>\n",
       "      <th>ALQTBID12_M_VC_16</th>\n",
       "      <th>ALQTBID12_M_VC_17</th>\n",
       "      <th>ALQTBID12_M_VC_18</th>\n",
       "      <th>ALQTBID12_M_VC_19</th>\n",
       "      <th>ALQTBID12_M_VC_20</th>\n",
       "    </tr>\n",
       "  </thead>\n",
       "  <tbody>\n",
       "    <tr>\n",
       "      <th>0</th>\n",
       "      <td>02003</td>\n",
       "      <td>174336</td>\n",
       "      <td>02003</td>\n",
       "      <td>400.0</td>\n",
       "      <td>400.0</td>\n",
       "      <td>400.0</td>\n",
       "      <td>410.000000</td>\n",
       "      <td>450.0</td>\n",
       "      <td>450.000000</td>\n",
       "    </tr>\n",
       "    <tr>\n",
       "      <th>1</th>\n",
       "      <td>02007</td>\n",
       "      <td>1194</td>\n",
       "      <td>02007</td>\n",
       "      <td>NaN</td>\n",
       "      <td>NaN</td>\n",
       "      <td>250.0</td>\n",
       "      <td>NaN</td>\n",
       "      <td>NaN</td>\n",
       "      <td>318.260870</td>\n",
       "    </tr>\n",
       "    <tr>\n",
       "      <th>2</th>\n",
       "      <td>02008</td>\n",
       "      <td>1324</td>\n",
       "      <td>02008</td>\n",
       "      <td>NaN</td>\n",
       "      <td>NaN</td>\n",
       "      <td>NaN</td>\n",
       "      <td>247.647849</td>\n",
       "      <td>250.0</td>\n",
       "      <td>250.000000</td>\n",
       "    </tr>\n",
       "    <tr>\n",
       "      <th>3</th>\n",
       "      <td>02009</td>\n",
       "      <td>24511</td>\n",
       "      <td>02009</td>\n",
       "      <td>300.0</td>\n",
       "      <td>300.0</td>\n",
       "      <td>300.0</td>\n",
       "      <td>310.000000</td>\n",
       "      <td>330.0</td>\n",
       "      <td>348.856209</td>\n",
       "    </tr>\n",
       "    <tr>\n",
       "      <th>4</th>\n",
       "      <td>02012</td>\n",
       "      <td>2327</td>\n",
       "      <td>02012</td>\n",
       "      <td>NaN</td>\n",
       "      <td>NaN</td>\n",
       "      <td>NaN</td>\n",
       "      <td>NaN</td>\n",
       "      <td>NaN</td>\n",
       "      <td>350.000000</td>\n",
       "    </tr>\n",
       "  </tbody>\n",
       "</table>\n",
       "</div>"
      ],
      "text/plain": [
       "    code   pob20  CUMUN  ALQTBID12_M_VC_15  ALQTBID12_M_VC_16  \\\n",
       "0  02003  174336  02003              400.0              400.0   \n",
       "1  02007    1194  02007                NaN                NaN   \n",
       "2  02008    1324  02008                NaN                NaN   \n",
       "3  02009   24511  02009              300.0              300.0   \n",
       "4  02012    2327  02012                NaN                NaN   \n",
       "\n",
       "   ALQTBID12_M_VC_17  ALQTBID12_M_VC_18  ALQTBID12_M_VC_19  ALQTBID12_M_VC_20  \n",
       "0              400.0         410.000000              450.0         450.000000  \n",
       "1              250.0                NaN                NaN         318.260870  \n",
       "2                NaN         247.647849              250.0         250.000000  \n",
       "3              300.0         310.000000              330.0         348.856209  \n",
       "4                NaN                NaN                NaN         350.000000  "
      ]
     },
     "execution_count": 6,
     "metadata": {},
     "output_type": "execute_result"
    }
   ],
   "source": [
    "i=20\n",
    "pob=pd.read_excel(\"pobmun/pobmun\"+str(i)+\".xlsx\")\n",
    "pob=pob.drop(columns=[\"Unnamed: 1\",\"Unnamed: 3\",\"Unnamed: 5\",\"Unnamed: 6\"])\n",
    "pob=pob.rename(columns={\"Cifras de población resultantes de la Revisión del Padrón municipal a 1 de enero de 20\"+str(i): \"code\", \"Unnamed: 2\": \"cmun\",\"Unnamed: 4\": \"pob\"+str(i)})\n",
    "pob[\"code\"]=pob[\"code\"].astype(str)+pob[\"cmun\"].astype(str)\n",
    "pob=pob.drop([0])\n",
    "pob=pob.drop(columns=[\"cmun\"])\n",
    "rentfile=pd.read_excel(\"bd_sistema-indices-alquiler-vivienda_2015-2020.xlsx\",sheet_name=\"Municipios \", usecols=\"C,M,AG,BA,BU,CO,DI\")\n",
    "rentfile=rentfile.dropna(thresh=2)\n",
    "rentfile['CUMUN']=rentfile[\"CUMUN\"].astype(str).str.rjust(5,'0')\n",
    "rentfile= rentfile[rentfile.CUMUN != set(rentfile.CUMUN)-set(pob.code)]\n",
    "pob=pd.merge(right=rentfile,left=pob,right_on=\"CUMUN\",left_on=\"code\")\n",
    "pob.head(5)"
   ]
  },
  {
   "cell_type": "code",
   "execution_count": 39,
   "metadata": {},
   "outputs": [
    {
     "data": {
      "text/plain": [
       "0"
      ]
     },
     "execution_count": 39,
     "metadata": {},
     "output_type": "execute_result"
    }
   ],
   "source": [
    "False*1"
   ]
  }
 ],
 "metadata": {
  "kernelspec": {
   "display_name": "Python 3",
   "language": "python",
   "name": "python3"
  },
  "language_info": {
   "codemirror_mode": {
    "name": "ipython",
    "version": 3
   },
   "file_extension": ".py",
   "mimetype": "text/x-python",
   "name": "python",
   "nbconvert_exporter": "python",
   "pygments_lexer": "ipython3",
   "version": "3.7.0"
  }
 },
 "nbformat": 4,
 "nbformat_minor": 2
}
